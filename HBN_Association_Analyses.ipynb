{
 "cells": [
  {
   "attachments": {},
   "cell_type": "markdown",
   "id": "9773bc7a",
   "metadata": {},
   "source": [
    "### Notebook to run association analyses for HBN sample.\n",
    "- Author: Dominik Kraft\n",
    "\n",
    "- make sure to use correct conda environment or use __conda activate net_fusion__ before starting the jupyter notebook"
   ]
  },
  {
   "cell_type": "code",
   "execution_count": 311,
   "id": "a7670f64",
   "metadata": {},
   "outputs": [],
   "source": [
    "import pandas as pd\n",
    "import numpy as np\n",
    "import matplotlib.pyplot as plt\n",
    "import seaborn as sns\n",
    "import statsmodels.api as sm\n",
    "import statsmodels.formula.api as smf\n",
    "\n",
    "\n",
    "pd.options.mode.chained_assignment = None \n",
    "\n",
    "import warnings\n",
    "warnings.filterwarnings(\"ignore\", category=DeprecationWarning) "
   ]
  },
  {
   "cell_type": "code",
   "execution_count": 451,
   "id": "fc62a5ea",
   "metadata": {},
   "outputs": [],
   "source": [
    "##  seaborn settings \n",
    "sns.set_theme(\n",
    "    context='paper',\n",
    "    style='ticks',\n",
    "    palette='tab10',\n",
    "    font='helvetica',\n",
    "    font_scale=1,\n",
    "    color_codes=True,\n",
    "    rc=None)"
   ]
  },
  {
   "cell_type": "code",
   "execution_count": 312,
   "id": "c30ee44a",
   "metadata": {},
   "outputs": [],
   "source": [
    "def partial_eta_square(model):\n",
    "    \"\"\"\n",
    "    Function to calculate partial eta square from OLS model after fitting\n",
    "    ---\n",
    "    Input:\n",
    "    - sm.model object after fitting the model\n",
    "    ----\n",
    "    Output:\n",
    "    - no return value, but prints partial eta squares for each predictor in model\n",
    "    \"\"\"\n",
    "    \n",
    "    # transform model to anova table\n",
    "    anova_table = sm.stats.anova_lm(model) \n",
    "    # index of anova table = predictor list\n",
    "    predictors = anova_table.index.to_list()\n",
    "    \n",
    "    # exclude categorical predictors + residuals\n",
    "    to_exclude = (\"C(\", \"Resi\")\n",
    "    predictors = [p for p in predictors if not p.startswith(to_exclude)]\n",
    "    \n",
    "    #iterate over all predictors and calculate eta squared \n",
    "    for predictor in predictors:\n",
    "        SS_predictor = anova_table.loc[predictor, 'sum_sq']\n",
    "        SS_resid = anova_table.loc['Residual', 'sum_sq']\n",
    "        partial_eta_squared = SS_predictor / (SS_predictor + SS_resid)\n",
    "        print(f'Partial eta squared for {predictor}: {partial_eta_squared.round(5)}')"
   ]
  },
  {
   "cell_type": "code",
   "execution_count": 314,
   "id": "3853b0ef",
   "metadata": {},
   "outputs": [],
   "source": [
    "dic = np.load('../outputs/outputdict_hbn.npy',allow_pickle='TRUE').item()\n",
    "# load output from main_hbn.py\n",
    "\n"
   ]
  },
  {
   "attachments": {},
   "cell_type": "markdown",
   "id": "b5d35a76",
   "metadata": {},
   "source": [
    "##### integrating information about primary diagnosis"
   ]
  },
  {
   "cell_type": "code",
   "execution_count": 455,
   "id": "1f5b2ba8",
   "metadata": {},
   "outputs": [
    {
     "data": {
      "text/plain": [
       "subjectkey    0\n",
       "DX_01_Cat     0\n",
       "DX_01         0\n",
       "dtype: int64"
      ]
     },
     "execution_count": 455,
     "metadata": {},
     "output_type": "execute_result"
    }
   ],
   "source": [
    "# load info about DX and perform same data handling\n",
    "#change path to file\n",
    "dx = pd.read_csv(\"9994_ConsensusDx_20220818.csv\",\n",
    "                 sep=\",\",\n",
    "        usecols=[\"DX_01\", \"DX_01_Cat\", \"EID\"],\n",
    "        skiprows=[1],\n",
    "    )\n",
    "\n",
    "dx.rename(columns={\"EID\": \"subjectkey\"}, inplace=True)\n",
    "\n",
    "# rename subjects\n",
    "dx[\"subjectkey\"] = [\n",
    "    \"sub-\" + x for x in dx[\"subjectkey\"].str.replace(\",assessment\", \"\")\n",
    "]\n",
    "\n",
    "dx = dx.drop_duplicates(subset=[\"subjectkey\"])\n",
    "dx.dropna(inplace=True)\n",
    "\n",
    "dx.isnull().sum()"
   ]
  },
  {
   "cell_type": "code",
   "execution_count": 464,
   "id": "f16aa71f",
   "metadata": {},
   "outputs": [
    {
     "name": "stdout",
     "output_type": "stream",
     "text": [
      "(2271, 16)\n"
     ]
    }
   ],
   "source": [
    "demos = dic[\"demos\"][1]\n",
    "demos = demos.loc[~demos[\"DX_01\"].isin(\n",
    "            [\"No Diagnosis Given\", \"No Diagnosis Given: Incomplete Eval\"]\n",
    "        )]\n",
    "print(demos.shape) # excludes one subject that was erroneously still in in the dx group despite having no diagnosis\n",
    "\n",
    "tt = demos.merge(dx, on=\"subjectkey\", how=\"left\") ### take care of missing vakues\n"
   ]
  },
  {
   "attachments": {},
   "cell_type": "markdown",
   "id": "cdce6000",
   "metadata": {},
   "source": [
    "###### the following cells map the primary diagnosis to six disorders (see paper for details)"
   ]
  },
  {
   "cell_type": "code",
   "execution_count": 465,
   "id": "79aa9d57",
   "metadata": {},
   "outputs": [],
   "source": [
    "### after these adjustments, there are several subjects with NaN in DX_cat despite having information in DX_01_x\n",
    "tt.DX_01_Cat = tt.apply(lambda row: \"ADHD\" if row['DX_01_x'].startswith('ADHD') else row['DX_01_Cat'], axis=1)\n",
    "tt.DX_01_Cat = tt.apply(lambda row: \"ASD\" if row['DX_01_x'] == \"Autism Spectrum Disorder\" else row['DX_01_Cat'], axis=1)\n",
    "tt.DX_01_Cat = tt.apply(lambda row: \"Anxiety Disorders\" if \"Anxiety\" in row['DX_01_x'] else row['DX_01_Cat'], axis=1)"
   ]
  },
  {
   "cell_type": "code",
   "execution_count": 466,
   "id": "7c26da18",
   "metadata": {},
   "outputs": [],
   "source": [
    "# this issue can be solved by applying this intermediate mapping to DX_01_x\n",
    "\n",
    "intermediate_mapping= {\n",
    "    'Oppositional Defiant Disorder': 'Disruptive, Impulse Control and Conduct Disorders',\n",
    "    'Speech Sound Disorder': 'Neurodevelopmental Disorders',\n",
    "    'Specific Learning Disorder with Impairment in Reading': 'Neurodevelopmental Disorders',\n",
    "    'Adjustment Disorders': 'Trauma and Stressor Related Disorders',\n",
    "    'Conduct Disorder-Childhood-onset type': 'Disruptive, Impulse Control and Conduct Disorders',\n",
    "    'Other Specified Disruptive, Impulse-Control, and Conduct Disorder': 'Disruptive, Impulse Control and Conduct Disorders',\n",
    "    'Language Disorder': 'Neurodevelopmental Disorders',\n",
    "    'Other Specified Obsessive-Compulsive and Related Disorder': 'Disruptive, Impulse Control and Conduct Disorders',\n",
    "    'Specific Phobia': 'Anxiety Disorders',\n",
    "    'Bipolar I Disorder': 'Bipolar and Related Disorders',\n",
    "    'Major Depressive Disorder': 'Depressive Disorders',\n",
    "    'Intermittent Explosive Disorder': 'Disruptive, Impulse Control and Conduct Disorders',\n",
    "    'Specific Learning Disorder with Impairment in Mathematics': 'Neurodevelopmental Disorders',\n",
    "    'Specific Learning Disorder with Impairment in Reading': 'Neurodevelopmental Disorders', \n",
    "    'Intellectual Disability-Moderate': 'Neurodevelopmental Disorders',\n",
    "    'Other Specified Attention-Deficit/Hyperactivity Disorder': 'Neurodevelopmental Disorders',\n",
    "    'Obsessive-Compulsive Disorder': 'Obsessive Compulsive and Related Disorders',\n",
    "    'Enuresis': 'Elimination Disorders',\n",
    "    'Other Specified Depressive Disorder': 'Depressive Disorders',\n",
    "    'Gender Dysphoria in Adolescents and Adults': 'Other Gender Dysphoria',\n",
    "    'Social (Pragmatic) Communication Disorder': 'Neurodevelopmental Disorders',\t\n",
    "    'Encopresis': 'Elimination Disorders',\n",
    "    'Intellectual Disability-Mild': 'Neurodevelopmental Disorders',\n",
    "    'Borderline Intellectual Functioning': 'Other Conditions That May Be a Focus of Clinical Attention',\n",
    "    'Posttraumatic Stress Disorder': 'Trauma and Stressor Related Disorders',\n",
    "    'Delirium due to multiple etiologies': 'Other Disorders',\n",
    "    'Persistent Depressive Disorder (Dysthymia)': 'Depressive Disorders'\n",
    "}\n",
    "\n"
   ]
  },
  {
   "cell_type": "code",
   "execution_count": 467,
   "id": "65992513",
   "metadata": {},
   "outputs": [],
   "source": [
    "## summarizing dx categories according to https://www.medrxiv.org/content/10.1101/2023.03.31.23288009v1.full.pdf+html \n",
    "dx_mapping = {\n",
    "    \"Neurodevelopmental Disorders\": \"Other ND\",\n",
    "    \"Elimination Disorders\": \"Other Disorders\",\n",
    "    \"Neurocognitive Disorders\": \"Other Disorders\",\n",
    "    \"Disruptive, Impulse Control and Conduct Disorders\": \"Other Disorders\",\n",
    "    \"Other Conditions That May Be a Focus of Clinical Attention\": \"Other Disorders\",\n",
    "    \"No Diagnosis Given: Incomplete Eval\": \"No diagnosis\",\n",
    "    \"Obsessive Compulsive and Related Disorders\": \"Anxiety\",\n",
    "    \"Trauma and Stressor Related Disorders\": \"Anxiety\",\n",
    "    \"Depressive Disorders\": \"Mood\",\n",
    "    \"Bipolar and Related Disorders\": \"Mood\",\n",
    "    \"Feeding and Eating Disorders\": \"Other Disorders\",\n",
    "    \"Schizophrenia Spectrum and other Psychotic Disorders\": \"Other Disorders\",\n",
    "    \"Substance Related and Addictive Disorders\": \"Other Disorders\",\n",
    "    \"Other Gender Dysphoria\": \"Other Disorders\",\n",
    "    \"Gender Dysphoria\": \"Other Disorders\",\n",
    "    \"Sleep-Wake Disorders\": \"Other Disorders\",\n",
    "    \"Somatic Symptom and Related Disorders\": \"Other Disorders\",\n",
    "    \"Personality Disorders\": \"Other Disorders\",\n",
    "    \"Mood Disorders\": \"Mood\",\n",
    "    \"No Diagnosis Given\": \"No diagnosis\",\n",
    "    #\"Other Disorders\": \"Other\",\n",
    "    \"Anxiety Disorders\": \"Anxiety\",\n",
    "    \"Other Neurodevelopmental Disorders\": \"Other ND\"\n",
    "}\n"
   ]
  },
  {
   "cell_type": "code",
   "execution_count": 468,
   "id": "0566c4e3",
   "metadata": {},
   "outputs": [],
   "source": [
    "tt[\"dx_cat\"] = tt.apply(lambda row: row[\"DX_01_x\"] if pd.isnull(row[\"DX_01_Cat\"]) else row[\"DX_01_Cat\"], axis=1)\n",
    "tt[\"dx_cat\"] = tt[\"dx_cat\"].replace(intermediate_mapping, regex=False)\n",
    "\n",
    "tt[\"dx_cat1\"] = tt.dx_cat.replace(dx_mapping, regex=False)"
   ]
  },
  {
   "cell_type": "code",
   "execution_count": 469,
   "id": "97c94ba6",
   "metadata": {},
   "outputs": [],
   "source": [
    "special_case_dict = {\n",
    "    \"No diagnosis\":\"Other ND\"\n",
    "}\n",
    "\n",
    "tt[\"DX_cat_new\"] = tt[\"dx_cat1\"].replace(special_case_dict)"
   ]
  },
  {
   "cell_type": "code",
   "execution_count": 18,
   "id": "bbf8a036",
   "metadata": {},
   "outputs": [
    {
     "data": {
      "text/plain": [
       "ADHD               1092\n",
       "Other ND            413\n",
       "Anxiety             386\n",
       "ASD                 169\n",
       "Mood                110\n",
       "Other Disorders     101\n",
       "Name: DX_cat_new, dtype: int64"
      ]
     },
     "execution_count": 18,
     "metadata": {},
     "output_type": "execute_result"
    }
   ],
   "source": [
    "tt.DX_cat_new.value_counts()"
   ]
  },
  {
   "cell_type": "code",
   "execution_count": 473,
   "id": "18f01aaf",
   "metadata": {},
   "outputs": [
    {
     "name": "stderr",
     "output_type": "stream",
     "text": [
      "/Users/Dominik/opt/anaconda3/envs/net_fusion/lib/python3.7/site-packages/ipykernel_launcher.py:63: UserWarning: FixedFormatter should only be used together with FixedLocator\n"
     ]
    },
    {
     "data": {
      "image/png": "[encoded data removed]",
      "text/plain": [
       "<Figure size 1008x720 with 4 Axes>"
      ]
     },
     "metadata": {},
     "output_type": "display_data"
    }
   ],
   "source": [
    "ax_mosaic = plt.figure(figsize=(14,10)).subplot_mosaic(\n",
    "    \"\"\"\n",
    "    AAB\n",
    "    CCD\n",
    "    \"\"\"\n",
    ")\n",
    "\n",
    "count = sns.countplot(data=demos, hue=\"Sex\", y=\"summed\", hue_order=[0, 1], ax=ax_mosaic[\"A\"], palette=\"tab10\")\n",
    "\n",
    "handles, labels  =  count.get_legend_handles_labels()\n",
    "count.legend(handles, ['males', 'females'], loc='lower right', frameon=False, fontsize=13)\n",
    "\n",
    "count.set_xlabel('count',fontsize=16, labelpad=8)\n",
    "count.set_ylabel('number of diagnoses',fontsize=16, labelpad=60)\n",
    "count.set_yticklabels(np.arange(1,11))\n",
    "\n",
    "\n",
    "#####\n",
    "\n",
    "\n",
    "grouped_data = demos.groupby(\"Sex\").summed.value_counts(normalize=True, sort=False)\n",
    "bins = np.arange(12) - 0.5\n",
    "\n",
    "# iterate over the groups\n",
    "for group_name, group_data in grouped_data.groupby(level=0):\n",
    "    # extract the summed values and their frequencies\n",
    "    x = group_data.index.get_level_values(1)\n",
    "    y = group_data.values\n",
    "    \n",
    "    # plot a barplot for each group\n",
    "    ax_mosaic[\"B\"].bar(x, height=y, alpha=0.7)\n",
    "\n",
    "\n",
    "# add axis labels and a legend\n",
    "ax_mosaic[\"B\"].set_xlabel(\"number of diagnoses\", fontsize=16, labelpad=8)\n",
    "ax_mosaic[\"B\"].set_ylabel(\"Percentage\", fontsize=16, labelpad=8)\n",
    "ax_mosaic[\"B\"].set_xticks(np.arange(1, 11, 1))\n",
    "#ax_mosaic[\"B\"].set_xlim([0, 11])\n",
    "ax_mosaic[\"B\"].legend(labels=[\"males\", \"females\"], loc='upper right', frameon=False, fontsize=13)\n",
    "\n",
    "\n",
    "\n",
    "##### categories ### \n",
    "\n",
    "grouped_data = tt.groupby(\"Sex\").DX_cat_new.value_counts(normalize=True, sort=False)\n",
    "#bins = np.arange(12) - 0.5\n",
    "\n",
    "# iterate over the groups\n",
    "for group_name, group_data in grouped_data.groupby(level=0):\n",
    "    # extract the summed values and their frequencies\n",
    "    x = group_data.index.get_level_values(1)\n",
    "    y = group_data.values\n",
    "    \n",
    "    # plot a histogram for each group\n",
    "    ax_mosaic[\"D\"].bar(x, height=y, alpha=0.7)\n",
    "\n",
    "\n",
    "# add axis labels and a legend\n",
    "ax_mosaic[\"D\"].set_xlabel(\"diagnostic categories\", fontsize=16, labelpad=8)\n",
    "ax_mosaic[\"D\"].set_ylabel(\"Percentage\", fontsize=16, labelpad=8)\n",
    "ax_mosaic[\"D\"].legend(labels=[\"males\", \"females\"], loc='upper right', frameon=False, fontsize=13)\n",
    "\n",
    "ax_mosaic[\"D\"].set_xticklabels(x, rotation=45)\n",
    "\n",
    "\n",
    "\n",
    "count_cat = sns.countplot(data=tt, hue=\"Sex\", y=\"DX_cat_new\", hue_order=[0, 1], ax=ax_mosaic[\"C\"], palette=\"tab10\", order=x) #note: using x from the barplots is a bit hacky\n",
    "\n",
    "handles, labels  =  count_cat.get_legend_handles_labels()\n",
    "count_cat.legend(handles, ['males', 'females'], loc='lower right', frameon=False, fontsize=13)\n",
    "\n",
    "count_cat.set_xlabel('count',fontsize=16, labelpad=50)\n",
    "#count_cat.set_yticklabels(count_cat.get_yticklabels(), rotation=30)\n",
    "\n",
    "count_cat.set_ylabel('diagnostic categories',fontsize=16, labelpad=8)\n",
    "\n",
    "\n",
    "plt.figtext(0.03,0.98,\"A)\",ha=\"left\",size=13)\n",
    "plt.figtext(0.73,0.98,\"B)\",ha=\"right\",size=13)\n",
    "\n",
    "plt.figtext(0.03,0.54,\"C)\",ha=\"left\",size=13)\n",
    "plt.figtext(0.73,0.54,\"D)\",ha=\"right\",size=13)\n",
    "\n",
    "plt.tight_layout(pad=3)\n",
    "sns.despine()\n",
    "\n",
    "\n",
    "#plt.savefig(\"HBN_psychopath_dist.svg\", bbox_inches='tight')\n",
    "\n",
    "\n"
   ]
  },
  {
   "attachments": {},
   "cell_type": "markdown",
   "id": "642c81e5",
   "metadata": {},
   "source": [
    "### cbcl "
   ]
  },
  {
   "cell_type": "code",
   "execution_count": 474,
   "id": "a2a74f15",
   "metadata": {},
   "outputs": [],
   "source": [
    "# load cbcl information from COINS\n",
    "# change path to file\n",
    "cbcl = pd.read_csv(\"9994_CBCL_20220818.csv\", skiprows=[1],\n",
    "                   usecols=[\"CBCL_Int\", \"CBCL_Ext\", \"CBCL_Total\", \"EID\"])\n",
    "\n",
    "cbcl.rename(columns={\"EID\": \"subjectkey\"}, inplace=True)\n",
    "cbcl[\"subjectkey\"] = [\n",
    "        \"sub-\" + x for x in cbcl[\"subjectkey\"]]\n"
   ]
  },
  {
   "cell_type": "code",
   "execution_count": 316,
   "id": "8b8bfd49",
   "metadata": {},
   "outputs": [
    {
     "data": {
      "text/plain": [
       "(2271, 16)"
      ]
     },
     "execution_count": 316,
     "metadata": {},
     "output_type": "execute_result"
    }
   ],
   "source": [
    "## combine demos and predicted embedding\n",
    "hbn = dic[\"demos\"][1] \n",
    "hbn[\"prediction\"] = np.squeeze(dic[\"predictions\"]) # predicted embedding\n",
    "hbn.rename(columns={\"Identifiers\":\"subjectkey\"},inplace=True)\n",
    "\n",
    "### exclude first subject since it was err. not excluded ### \n",
    "hbn = hbn.loc[~hbn[\"DX_01\"].isin(\n",
    "            [\"No Diagnosis Given\", \"No Diagnosis Given: Incomplete Eval\"]\n",
    "        )]\n",
    "hbn.shape"
   ]
  },
  {
   "attachments": {},
   "cell_type": "markdown",
   "id": "f66aad32",
   "metadata": {},
   "source": [
    "## get puberty information\n",
    "\n",
    "#### Note: we use data from LORIS + COINS releases to make sure to gather every available data \n",
    "\n",
    "- The first cells contain some data handling to align both datasets and eventually combine them \n",
    "\n",
    "\n",
    "\n"
   ]
  },
  {
   "cell_type": "code",
   "execution_count": 317,
   "id": "39e0232e",
   "metadata": {},
   "outputs": [],
   "source": [
    "### specify puberty columns for loris\n",
    "pub_cols = ['PPS,PPS_F_01',\n",
    " 'PPS,PPS_F_02',\n",
    " 'PPS,PPS_F_03',\n",
    " 'PPS,PPS_F_04','PPS,PPS_F_05',\n",
    " 'PPS,PPS_F_06', \"PPS,PPS_F_Score\",\n",
    "'PPS,PPS_M_01',\n",
    " 'PPS,PPS_M_02',\n",
    " 'PPS,PPS_M_03',\n",
    " 'PPS,PPS_M_04',\n",
    " 'PPS,PPS_M_05',\n",
    "'PPS,PPS_M_06',\n",
    "           \"PPS,PPS_M_Score\"]"
   ]
  },
  {
   "cell_type": "code",
   "execution_count": 318,
   "id": "12c50a55",
   "metadata": {},
   "outputs": [
    {
     "data": {
      "text/plain": [
       "(2842, 15)"
      ]
     },
     "execution_count": 318,
     "metadata": {},
     "output_type": "execute_result"
    }
   ],
   "source": [
    "loris_pub=pd.read_csv('../../hbn/nonMRI/HBN_Petersen_neu1708.csv', sep = ',', skiprows=[1],\n",
    "                usecols= pub_cols + [\"Identifiers\"])\n",
    "                   # read header\n",
    "    \n",
    "loris_pub[\"Identifiers\"] = [\"sub-\"+ x for x in loris_pub[\"Identifiers\"]]\n",
    "loris_pub[\"Identifiers\"] =loris_pub[\"Identifiers\"].str.replace(',assessment', '')\n",
    "loris_pub.drop_duplicates(subset=[\"Identifiers\"], inplace=True)\n",
    "\n",
    "loris_pub.shape"
   ]
  },
  {
   "cell_type": "code",
   "execution_count": 319,
   "id": "ef5d0ab2",
   "metadata": {},
   "outputs": [
    {
     "data": {
      "text/plain": [
       "{'PPS,PPS_F_01': 'PPS_F_01',\n",
       " 'PPS,PPS_F_02': 'PPS_F_02',\n",
       " 'PPS,PPS_F_03': 'PPS_F_03',\n",
       " 'PPS,PPS_F_04': 'PPS_F_04',\n",
       " 'PPS,PPS_F_05': 'PPS_F_05',\n",
       " 'PPS,PPS_F_06': 'PPS_F_06',\n",
       " 'PPS,PPS_F_Score': 'PPS_F_Score',\n",
       " 'PPS,PPS_M_01': 'PPS_M_01',\n",
       " 'PPS,PPS_M_02': 'PPS_M_02',\n",
       " 'PPS,PPS_M_03': 'PPS_M_03',\n",
       " 'PPS,PPS_M_04': 'PPS_M_04',\n",
       " 'PPS,PPS_M_05': 'PPS_M_05',\n",
       " 'PPS,PPS_M_06': 'PPS_M_06',\n",
       " 'PPS,PPS_M_Score': 'PPS_M_Score'}"
      ]
     },
     "execution_count": 319,
     "metadata": {},
     "output_type": "execute_result"
    }
   ],
   "source": [
    "### different column naming between loris and coins file \n",
    "col_map = [x.replace('PPS,', '') for x in loris_pub.columns if x.startswith(\"PPS\")]\n",
    "col_to_map = [x for x in loris_pub.columns if x.startswith(\"PPS\")]\n",
    "mapper_dic = dict(zip(col_to_map, col_map))\n",
    "mapper_dic\n",
    "\n",
    "\n",
    "## map loris column names to coin column names"
   ]
  },
  {
   "cell_type": "code",
   "execution_count": 320,
   "id": "77f9c823",
   "metadata": {},
   "outputs": [],
   "source": [
    "loris_pub.rename(mapper=mapper_dic, axis=1, inplace=True)\n",
    "loris_pub.rename(columns={\"Identifiers\":\"subjectkey\"},inplace=True)\n",
    "loris_pub[col_map] = loris_pub[col_map].replace('.', np.nan)\n",
    "loris_pub[col_map] = loris_pub[col_map].astype(\"float64\")\n"
   ]
  },
  {
   "cell_type": "code",
   "execution_count": 321,
   "id": "ff85021a",
   "metadata": {},
   "outputs": [
    {
     "data": {
      "text/plain": [
       "(2450, 15)"
      ]
     },
     "execution_count": 321,
     "metadata": {},
     "output_type": "execute_result"
    }
   ],
   "source": [
    "### COINS ###\n",
    "\n",
    "coins_pub = pd.read_csv(\"../../hbn/nonMRI/coins/assessment_data/9994_PPS_20220818.csv\",\n",
    "                      sep = ',', skiprows=[1])\n",
    "\n",
    "\n",
    "coins_pub[\"subjectkey\"] = [\"sub-\"+ x for x in coins_pub[\"EID\"]] ### note: in loris file, variables are labeled differently\n",
    "\n",
    "coins_pub[\"subjectkey\"] =coins_pub[\"subjectkey\"].str.replace(',assessment', '')\n",
    "\n",
    "coins_pub.drop_duplicates(subset=[\"subjectkey\"], inplace=True)\n",
    "\n",
    "coins_pub = coins_pub[[\"subjectkey\"]+col_map]\n",
    "coins_pub.shape\n",
    "\n"
   ]
  },
  {
   "cell_type": "code",
   "execution_count": 322,
   "id": "956a33e2",
   "metadata": {},
   "outputs": [
    {
     "name": "stdout",
     "output_type": "stream",
     "text": [
      "(5292, 15)\n",
      "(2843, 15)\n"
     ]
    }
   ],
   "source": [
    "pub_combined = pd.concat([coins_pub, loris_pub]) # concat both loris and coins\n",
    "print(pub_combined.shape)\n",
    "pub_combined.drop_duplicates(subset=\"subjectkey\", inplace=True) # drop duplicates\n",
    "print(pub_combined.shape)\n"
   ]
  },
  {
   "cell_type": "code",
   "execution_count": 323,
   "id": "aaf371a5",
   "metadata": {},
   "outputs": [
    {
     "data": {
      "text/plain": [
       "(1708, 30)"
      ]
     },
     "execution_count": 323,
     "metadata": {},
     "output_type": "execute_result"
    }
   ],
   "source": [
    "pub_d = pd.merge(hbn, pub_combined, on=\"subjectkey\") #merge embedding info and puberty info\n",
    "pub_d.drop_duplicates(subset=\"subjectkey\", inplace=True)\n",
    "pub_d.shape"
   ]
  },
  {
   "attachments": {},
   "cell_type": "markdown",
   "id": "6e1406d2",
   "metadata": {},
   "source": [
    "## Association Analyses\n",
    "\n",
    "\n"
   ]
  },
  {
   "attachments": {},
   "cell_type": "markdown",
   "id": "7d2a53b2",
   "metadata": {},
   "source": [
    "### get puberty information\n",
    "\n",
    "#### puberty information in analogy to ABCD sample"
   ]
  },
  {
   "cell_type": "code",
   "execution_count": 324,
   "id": "5afe98bd",
   "metadata": {},
   "outputs": [],
   "source": [
    "fem = pub_d.loc[pub_d[\"Sex\"]==1] ## subset for sex\n",
    "men = pub_d.loc[pub_d[\"Sex\"]==0]\n",
    "\n",
    "\n",
    "## calculate gonadal puberty scores \n",
    "fem[\"gonadal\"]= fem[[\"PPS_F_01\", \"PPS_F_04\", \"PPS_F_06\"]].mean(axis=1, skipna=False)\n",
    "men[\"gonadal\"] = men[[\"PPS_M_01\",\"PPS_M_04\", \"PPS_M_05\"]].mean(axis=1, skipna=False)\n",
    "\n",
    "\n",
    "## calculate adrenal puberty scores\n",
    "fem[\"adrenal\"]= fem[[\"PPS_F_02\", \"PPS_F_03\"]].mean(axis=1, skipna=False)\n",
    "men[\"adrenal\"]= men[[\"PPS_M_02\", \"PPS_M_03\"]].mean(axis=1, skipna=False)\n",
    "\n",
    "## calculate average PDS scores\n",
    "fem[\"PDS_mean\"] =  fem[['PPS_F_01',\n",
    " 'PPS_F_02',\n",
    " 'PPS_F_03',\n",
    " 'PPS_F_04',\n",
    " 'PPS_F_06',]].mean(axis=1, skipna=False)\n",
    "men[\"PDS_mean\"] =  men[['PPS_M_01',\n",
    " 'PPS_M_02',\n",
    " 'PPS_M_03',\n",
    " 'PPS_M_04',\n",
    " 'PPS_M_05']].mean(axis=1, skipna=False)\n",
    "\n",
    "## calculate PDS category score\n",
    "fem[\"PDS_cat_score\"] = fem[[\"PPS_F_02\", \"PPS_F_04\"]].sum(axis=1, skipna=False) ##### error f2 statt f1 ### \n",
    "men[\"PDS_cat_score\"] = men[[\"PPS_M_02\",\"PPS_M_04\", \"PPS_M_05\"]].sum(axis=1, skipna=False)"
   ]
  },
  {
   "cell_type": "code",
   "execution_count": 325,
   "id": "27d2b84a",
   "metadata": {},
   "outputs": [],
   "source": [
    "def female_categorical(row):\n",
    "    '''\n",
    "    female: body hair growth + breast development || using menarche info as follows:\n",
    "    prepubertal = 2 + no menarche\n",
    "    early pubertal = 3 + no menarche\n",
    "    midpubertal =>3 + no menarche\n",
    "    late pubertal <=7 + menarche\n",
    "    postpubertal = 8 + menarche\n",
    "    according to Herting et al (2021) Frontiers in Endocrinology\n",
    "    '''\n",
    "    if np.isnan(row[\"PDS_cat_score\"])==False:\n",
    "        \n",
    "        if row[\"PPS_F_06\"] == 0.0: #no\n",
    "            if row[\"PDS_cat_score\"] == 2.0:\n",
    "                return \"prepubertal\"\n",
    "            if row[\"PDS_cat_score\"] == 3.0:\n",
    "                return \"early pubertal\"\n",
    "            if row[\"PDS_cat_score\"] >= 3.0:\n",
    "                return \"midpubertal\"\n",
    "            \n",
    "        elif row[\"PPS_F_06\"] == 1.0: #yes\n",
    "            if row[\"PDS_cat_score\"] <= 7.0:\n",
    "                return \"late pubertal\"\n",
    "            if row[\"PDS_cat_score\"] == 8.0:\n",
    "                return \"postpubertal\"\n",
    "                  \n",
    "    elif np.isnan(row[\"PDS_cat_score\"])==True:\n",
    "        return np.nan\n",
    "    \n",
    "    \n",
    "def male_categorical(row):\n",
    "    '''\n",
    "    male: body hair growth + facial hair + voice change\n",
    "    prepubertal = 3 x\n",
    "    early pubertal = 4 or 5 (no 3 point response)x\n",
    "    midpubertal = 6-8 (no point 4 response) x\n",
    "    late pubertal = 9-11 \n",
    "    postpubertal = 12 (all 4 point)\n",
    "    according to Herting et al (2021) Frontiers in Endocrinology\n",
    "    with minor adjustment to not create cases for which category is not\n",
    "    well defined (see paper)\n",
    "    '''\n",
    "    if np.isnan(row[\"PDS_cat_score\"])==False:\n",
    "        \n",
    "        if row[\"PDS_cat_score\"] == 3.0:\n",
    "            return \"prepubertal\"\n",
    "        \n",
    "        if 4.0 <= row[\"PDS_cat_score\"] <= 5.0:\n",
    "            return \"early pubertal\"\n",
    "            \n",
    "        if 6.0 <= row[\"PDS_cat_score\"] <= 8.0:\n",
    "            return \"midpubertal\"\n",
    "            \n",
    "        if 9.0 <= row[\"PDS_cat_score\"] <= 11.0:\n",
    "                return \"late pubertal\"\n",
    "            \n",
    "        if row[\"PDS_cat_score\"] == 12.0:\n",
    "            return \"postpubertal\"\n",
    "        \n",
    "    elif np.isnan(row[\"PDS_cat_score\"])==True:\n",
    "        return np.nan"
   ]
  },
  {
   "cell_type": "code",
   "execution_count": 326,
   "id": "ea131e64",
   "metadata": {},
   "outputs": [
    {
     "data": {
      "text/plain": [
       "(1708, 35)"
      ]
     },
     "execution_count": 326,
     "metadata": {},
     "output_type": "execute_result"
    }
   ],
   "source": [
    "fem[\"PDS_category\"] = fem.apply(lambda row: female_categorical(row), axis=1)\n",
    "men[\"PDS_category\"] = men.apply(lambda row: male_categorical(row), axis=1)\n",
    "\n",
    "pub_all = pd.concat([fem, men])\n",
    "pub_all.shape"
   ]
  },
  {
   "cell_type": "code",
   "execution_count": 327,
   "id": "ef369627",
   "metadata": {},
   "outputs": [],
   "source": [
    "tmp1 = pub_all.copy() # copy dataframe "
   ]
  },
  {
   "attachments": {},
   "cell_type": "markdown",
   "id": "51b13d75",
   "metadata": {},
   "source": [
    "### Psychopathology Model\n"
   ]
  },
  {
   "cell_type": "code",
   "execution_count": 450,
   "id": "f2f3552c",
   "metadata": {},
   "outputs": [
    {
     "name": "stdout",
     "output_type": "stream",
     "text": [
      "MALE\n",
      "prediction ~ summed + Age + C(Scan_Location)\n",
      "1487\n",
      "=========================================================================================\n",
      "                            coef    std err          t      P>|t|      [0.025      0.975]\n",
      "-----------------------------------------------------------------------------------------\n",
      "Intercept                 0.2066      0.136      1.513      0.130      -0.061       0.474\n",
      "C(Scan_Location)[T.2]     0.0725      0.104      0.700      0.484      -0.131       0.276\n",
      "C(Scan_Location)[T.3]     0.1016      0.103      0.985      0.325      -0.101       0.304\n",
      "C(Scan_Location)[T.4]     0.0458      0.148      0.310      0.756      -0.244       0.335\n",
      "summed                    0.0368      0.019      1.953      0.051      -0.000       0.074\n",
      "Age                      -0.0512      0.009     -5.757      0.000      -0.069      -0.034\n",
      "=========================================================================================\n",
      "0.03676619062281872 0.05096931434786059\n",
      "-0.051209360474663464 1.038120489674711e-08\n",
      "\n",
      "\n",
      "Partial eta squared for summed: 0.00097\n",
      "Partial eta squared for Age: 0.02189\n",
      "----------------\n",
      "\n",
      "\n",
      "FEMALE\n",
      "prediction ~ summed + Age + C(Scan_Location)\n",
      "784\n",
      "=========================================================================================\n",
      "                            coef    std err          t      P>|t|      [0.025      0.975]\n",
      "-----------------------------------------------------------------------------------------\n",
      "Intercept                 0.6217      0.166      3.741      0.000       0.295       0.948\n",
      "C(Scan_Location)[T.2]    -0.1152      0.122     -0.946      0.344      -0.354       0.124\n",
      "C(Scan_Location)[T.3]    -0.2526      0.121     -2.080      0.038      -0.491      -0.014\n",
      "C(Scan_Location)[T.4]    -0.2658      0.176     -1.509      0.132      -0.612       0.080\n",
      "summed                    0.0680      0.025      2.728      0.007       0.019       0.117\n",
      "Age                      -0.0191      0.011     -1.751      0.080      -0.041       0.002\n",
      "=========================================================================================\n",
      "0.06800757193190597 0.0065184886411406955\n",
      "-0.019108122526657594 0.0803503833386203\n",
      "\n",
      "\n",
      "Partial eta squared for summed: 0.00724\n",
      "Partial eta squared for Age: 0.00393\n",
      "----------------\n",
      "\n",
      "\n"
     ]
    }
   ],
   "source": [
    "psycho_models = [\n",
    "    'prediction ~ summed + Age + C(Scan_Location)'] # with sum of diagnoses\n",
    "    \n",
    "\n",
    "for s in [0,1]:\n",
    "    if s == 0:\n",
    "        print(\"MALE\")\n",
    "    elif s == 1:\n",
    "        print(\"FEMALE\")\n",
    "    \n",
    "    for m in psycho_models:\n",
    "        \n",
    "        \n",
    "        model = smf.ols(formula=m, data=hbn.loc[hbn[\"Sex\"]==s]).fit()\n",
    "        summary = model.summary()\n",
    "\n",
    "        print(m)\n",
    "        print(int(model.nobs))\n",
    "        print(summary.tables[1])\n",
    "        print(model.params[-2], model.pvalues[-2])\n",
    "        print(model.params[-1], model.pvalues[-1])\n",
    "        print(\"\\n\")\n",
    "        partial_eta_square(model)\n",
    "        print(\"----------------\")\n",
    "        print(\"\\n\")\n",
    "        \n"
   ]
  },
  {
   "cell_type": "code",
   "execution_count": 338,
   "id": "25926457",
   "metadata": {},
   "outputs": [
    {
     "data": {
      "text/plain": [
       "subjectkey          0\n",
       "Age                 0\n",
       "Sex                 0\n",
       "Scan_Location       0\n",
       "DX_01               0\n",
       "DX_02             586\n",
       "DX_03            1219\n",
       "DX_04            1682\n",
       "DX_05            1955\n",
       "DX_06            2120\n",
       "DX_07            2207\n",
       "DX_08            2254\n",
       "DX_09            2264\n",
       "DX_10            2267\n",
       "summed              0\n",
       "prediction          0\n",
       "CBCL_Int          367\n",
       "CBCL_Ext          367\n",
       "CBCL_Total        367\n",
       "dtype: int64"
      ]
     },
     "execution_count": 338,
     "metadata": {},
     "output_type": "execute_result"
    }
   ],
   "source": [
    "check = hbn.merge(cbcl, on=\"subjectkey\", how=\"left\") ### 367 NaN in CBCL variables "
   ]
  },
  {
   "cell_type": "code",
   "execution_count": 343,
   "id": "d849b627",
   "metadata": {},
   "outputs": [
    {
     "name": "stdout",
     "output_type": "stream",
     "text": [
      "MALE\n",
      "prediction ~ CBCL_Total + Age + C(Scan_Location)\n",
      "1269\n",
      "=========================================================================================\n",
      "                            coef    std err          t      P>|t|      [0.025      0.975]\n",
      "-----------------------------------------------------------------------------------------\n",
      "Intercept                 0.1170      0.159      0.736      0.462      -0.195       0.429\n",
      "C(Scan_Location)[T.2]     0.1395      0.106      1.311      0.190      -0.069       0.348\n",
      "C(Scan_Location)[T.3]     0.1966      0.107      1.840      0.066      -0.013       0.406\n",
      "C(Scan_Location)[T.4]     0.0372      0.182      0.204      0.838      -0.321       0.395\n",
      "CBCL_Total                0.0023      0.001      1.861      0.063      -0.000       0.005\n",
      "Age                      -0.0514      0.010     -5.017      0.000      -0.072      -0.031\n",
      "=========================================================================================\n",
      "0.002306516652907232 0.06299436171298856\n",
      "-0.05144896078628928 5.984589717906963e-07\n",
      "\n",
      "\n",
      "Partial eta squared for CBCL_Total: 0.00371\n",
      "Partial eta squared for Age: 0.01954\n",
      "----------------\n",
      "\n",
      "\n",
      "FEMALE\n",
      "prediction ~ CBCL_Total + Age + C(Scan_Location)\n",
      "635\n",
      "=========================================================================================\n",
      "                            coef    std err          t      P>|t|      [0.025      0.975]\n",
      "-----------------------------------------------------------------------------------------\n",
      "Intercept                 0.4300      0.198      2.170      0.030       0.041       0.819\n",
      "C(Scan_Location)[T.2]    -0.0562      0.131     -0.430      0.667      -0.313       0.200\n",
      "C(Scan_Location)[T.3]    -0.1295      0.132     -0.979      0.328      -0.389       0.130\n",
      "C(Scan_Location)[T.4]    -0.3297      0.270     -1.220      0.223      -0.860       0.201\n",
      "CBCL_Total                0.0040      0.001      2.672      0.008       0.001       0.007\n",
      "Age                      -0.0069      0.013     -0.537      0.591      -0.032       0.018\n",
      "=========================================================================================\n",
      "0.004005162113152166 0.007724658366746185\n",
      "-0.006886147084881902 0.5913469311127234\n",
      "\n",
      "\n",
      "Partial eta squared for CBCL_Total: 0.01112\n",
      "Partial eta squared for Age: 0.00046\n",
      "----------------\n",
      "\n",
      "\n"
     ]
    }
   ],
   "source": [
    "### note: for summed, the dataframe doesnt need to be merged with puberty info, thus leaving more subjects for the association, since there are no NaN in sum\n",
    "psycho_models = [\n",
    "    'prediction ~ CBCL_Total + Age + C(Scan_Location)'] #change to summed\n",
    "    \n",
    "\n",
    "for s in [0,1]:\n",
    "    if s == 0:\n",
    "        print(\"MALE\")\n",
    "    elif s == 1:\n",
    "        print(\"FEMALE\")\n",
    "    \n",
    "    for m in psycho_models:\n",
    "        \n",
    "        \n",
    "        model = smf.ols(formula=m, data=check.loc[check[\"Sex\"]==s]).fit()\n",
    "        summary = model.summary()\n",
    "\n",
    "        print(m)\n",
    "        print(int(model.nobs))\n",
    "        print(summary.tables[1])\n",
    "        print(model.params[-2], model.pvalues[-2])\n",
    "        print(model.params[-1], model.pvalues[-1])\n",
    "        print(\"\\n\")\n",
    "        partial_eta_square(model)\n",
    "        print(\"----------------\")\n",
    "        print(\"\\n\")\n",
    "        \n"
   ]
  },
  {
   "cell_type": "code",
   "execution_count": 440,
   "id": "1813cf4f",
   "metadata": {},
   "outputs": [
    {
     "data": {
      "text/plain": [
       "SpearmanrResult(correlation=0.3186743247477985, pvalue=3.3737915122689e-46)"
      ]
     },
     "execution_count": 440,
     "metadata": {},
     "output_type": "execute_result"
    }
   ],
   "source": [
    "### corr summed + cbcl total\n",
    "check_nona= check.dropna(subset=[\"CBCL_Total\"])\n",
    "stats.spearmanr(check_nona.summed, check_nona.CBCL_Total)"
   ]
  },
  {
   "cell_type": "code",
   "execution_count": 354,
   "metadata": {},
   "outputs": [],
   "source": [
    "\n",
    "### merging cbcl and puberty info ### \n",
    "tmp2 = tmp1.merge(cbcl, on=\"subjectkey\", how=\"left\")"
   ]
  },
  {
   "cell_type": "code",
   "execution_count": 346,
   "id": "97e0c147",
   "metadata": {},
   "outputs": [
    {
     "name": "stdout",
     "output_type": "stream",
     "text": [
      "MALE\n",
      "prediction ~ PDS_mean + CBCL_Total + Age + C(Scan_Location)\n",
      "943\n",
      "=========================================================================================\n",
      "                            coef    std err          t      P>|t|      [0.025      0.975]\n",
      "-----------------------------------------------------------------------------------------\n",
      "Intercept                 0.2218      0.217      1.021      0.307      -0.204       0.648\n",
      "C(Scan_Location)[T.2]     0.0911      0.168      0.544      0.587      -0.238       0.420\n",
      "C(Scan_Location)[T.3]     0.1443      0.168      0.857      0.392      -0.186       0.475\n",
      "C(Scan_Location)[T.4]     0.1265      0.250      0.507      0.613      -0.364       0.617\n",
      "PDS_mean                 -0.0120      0.081     -0.148      0.882      -0.171       0.147\n",
      "CBCL_Total                0.0013      0.001      0.881      0.378      -0.002       0.004\n",
      "Age                      -0.0496      0.020     -2.468      0.014      -0.089      -0.010\n",
      "=========================================================================================\n",
      "0.0012700998845435719 0.3782884918765608\n",
      "-0.04957946288269076 0.01374697980715516\n",
      "\n",
      "\n",
      "Partial eta squared for PDS_mean: 0.01341\n",
      "Partial eta squared for CBCL_Total: 0.00115\n",
      "Partial eta squared for Age: 0.00647\n",
      "----------------\n",
      "\n",
      "\n",
      "prediction ~ PDS_mean + CBCL_Total + CBCL_Total:PDS_mean + Age + C(Scan_Location)\n",
      "943\n",
      "=========================================================================================\n",
      "                            coef    std err          t      P>|t|      [0.025      0.975]\n",
      "-----------------------------------------------------------------------------------------\n",
      "Intercept                 0.1343      0.252      0.533      0.594      -0.360       0.629\n",
      "C(Scan_Location)[T.2]     0.0881      0.168      0.525      0.599      -0.241       0.417\n",
      "C(Scan_Location)[T.3]     0.1397      0.169      0.829      0.407      -0.191       0.470\n",
      "C(Scan_Location)[T.4]     0.1233      0.250      0.494      0.622      -0.367       0.614\n",
      "PDS_mean                  0.0417      0.112      0.371      0.711      -0.179       0.262\n",
      "CBCL_Total                0.0035      0.004      0.988      0.324      -0.003       0.010\n",
      "CBCL_Total:PDS_mean      -0.0013      0.002     -0.687      0.492      -0.005       0.002\n",
      "Age                      -0.0499      0.020     -2.484      0.013      -0.089      -0.010\n",
      "=========================================================================================\n",
      "-0.0012676312059318683 0.49207595151644756\n",
      "-0.04991299335301292 0.013178622813536772\n",
      "\n",
      "\n",
      "Partial eta squared for PDS_mean: 0.01341\n",
      "Partial eta squared for CBCL_Total: 0.00116\n",
      "Partial eta squared for CBCL_Total:PDS_mean: 0.00042\n",
      "Partial eta squared for Age: 0.00655\n",
      "----------------\n",
      "\n",
      "\n",
      "FEMALE\n",
      "prediction ~ PDS_mean + CBCL_Total + Age + C(Scan_Location)\n",
      "471\n",
      "=========================================================================================\n",
      "                            coef    std err          t      P>|t|      [0.025      0.975]\n",
      "-----------------------------------------------------------------------------------------\n",
      "Intercept                 0.4411      0.264      1.668      0.096      -0.078       0.961\n",
      "C(Scan_Location)[T.2]     0.0617      0.194      0.318      0.751      -0.319       0.443\n",
      "C(Scan_Location)[T.3]    -0.0661      0.196     -0.338      0.736      -0.451       0.318\n",
      "C(Scan_Location)[T.4]    -0.2910      0.352     -0.826      0.409      -0.983       0.401\n",
      "PDS_mean                  0.2173      0.104      2.086      0.037       0.013       0.422\n",
      "CBCL_Total                0.0054      0.002      3.100      0.002       0.002       0.009\n",
      "Age                      -0.0577      0.027     -2.113      0.035      -0.111      -0.004\n",
      "=========================================================================================\n",
      "0.005432524303378007 0.0020560892473719455\n",
      "-0.05772124982594001 0.035163249730994404\n",
      "\n",
      "\n",
      "Partial eta squared for PDS_mean: 0.00086\n",
      "Partial eta squared for CBCL_Total: 0.01953\n",
      "Partial eta squared for Age: 0.00953\n",
      "----------------\n",
      "\n",
      "\n",
      "prediction ~ PDS_mean + CBCL_Total + CBCL_Total:PDS_mean + Age + C(Scan_Location)\n",
      "471\n",
      "=========================================================================================\n",
      "                            coef    std err          t      P>|t|      [0.025      0.975]\n",
      "-----------------------------------------------------------------------------------------\n",
      "Intercept                 0.3335      0.326      1.024      0.306      -0.307       0.973\n",
      "C(Scan_Location)[T.2]     0.0740      0.195      0.379      0.705      -0.310       0.458\n",
      "C(Scan_Location)[T.3]    -0.0571      0.196     -0.291      0.772      -0.443       0.329\n",
      "C(Scan_Location)[T.4]    -0.2936      0.353     -0.833      0.405      -0.986       0.399\n",
      "PDS_mean                  0.2673      0.137      1.957      0.051      -0.001       0.536\n",
      "CBCL_Total                0.0077      0.004      1.770      0.077      -0.001       0.016\n",
      "CBCL_Total:PDS_mean      -0.0012      0.002     -0.566      0.571      -0.005       0.003\n",
      "Age                      -0.0573      0.027     -2.094      0.037      -0.111      -0.004\n",
      "=========================================================================================\n",
      "-0.0012022509897426897 0.5714692208011409\n",
      "-0.05728249249906801 0.03678286493697855\n",
      "\n",
      "\n",
      "Partial eta squared for PDS_mean: 0.00086\n",
      "Partial eta squared for CBCL_Total: 0.01954\n",
      "Partial eta squared for CBCL_Total:PDS_mean: 0.00085\n",
      "Partial eta squared for Age: 0.00938\n",
      "----------------\n",
      "\n",
      "\n"
     ]
    }
   ],
   "source": [
    "psycho_pub_models = [\n",
    "    'prediction ~ PDS_mean + CBCL_Total + Age + C(Scan_Location)',\n",
    "    'prediction ~ PDS_mean + CBCL_Total + CBCL_Total:PDS_mean + Age + C(Scan_Location)']\n",
    "\n",
    "for s in [0,1]:\n",
    "    if s == 0:\n",
    "        print(\"MALE\")\n",
    "    elif s == 1:\n",
    "        print(\"FEMALE\")\n",
    "    \n",
    "    for m in psycho_pub_models:\n",
    "        \n",
    "        \n",
    "        model = smf.ols(formula=m, data=tmp2.loc[tmp2[\"Sex\"]==s]).fit()\n",
    "        summary = model.summary()\n",
    "\n",
    "        print(m)\n",
    "        print(int(model.nobs))\n",
    "        print(summary.tables[1])\n",
    "        print(model.params[-2], model.pvalues[-2])\n",
    "        print(model.params[-1], model.pvalues[-1])\n",
    "        print(\"\\n\")\n",
    "        partial_eta_square(model)\n",
    "        print(\"----------------\")\n",
    "        print(\"\\n\")"
   ]
  },
  {
   "cell_type": "code",
   "execution_count": 335,
   "id": "db46f678",
   "metadata": {
    "scrolled": false
   },
   "outputs": [
    {
     "name": "stdout",
     "output_type": "stream",
     "text": [
      "MALE\n",
      "prediction ~ PDS_mean + summed + Age + C(Scan_Location)\n",
      "1105\n",
      "=========================================================================================\n",
      "                            coef    std err          t      P>|t|      [0.025      0.975]\n",
      "-----------------------------------------------------------------------------------------\n",
      "Intercept                 0.2360      0.198      1.194      0.233      -0.152       0.624\n",
      "C(Scan_Location)[T.2]     0.0582      0.166      0.351      0.726      -0.267       0.384\n",
      "C(Scan_Location)[T.3]     0.0764      0.166      0.460      0.646      -0.250       0.402\n",
      "C(Scan_Location)[T.4]     0.0577      0.206      0.280      0.780      -0.347       0.462\n",
      "PDS_mean                  0.0512      0.076      0.676      0.499      -0.097       0.200\n",
      "summed                    0.0366      0.022      1.643      0.101      -0.007       0.080\n",
      "Age                      -0.0610      0.018     -3.367      0.001      -0.096      -0.025\n",
      "=========================================================================================\n",
      "0.036601144170140536 0.1006688485146742\n",
      "-0.06095264591122897 0.0007875923423229345\n",
      "\n",
      "\n",
      "Partial eta squared for PDS_mean: 0.01016\n",
      "Partial eta squared for summed: 0.00174\n",
      "Partial eta squared for Age: 0.01022\n",
      "----------------\n",
      "\n",
      "\n",
      "prediction ~ PDS_mean + summed + summed:PDS_mean + Age + C(Scan_Location)\n",
      "1105\n",
      "=========================================================================================\n",
      "                            coef    std err          t      P>|t|      [0.025      0.975]\n",
      "-----------------------------------------------------------------------------------------\n",
      "Intercept                 0.3076      0.240      1.282      0.200      -0.163       0.778\n",
      "C(Scan_Location)[T.2]     0.0568      0.166      0.342      0.732      -0.269       0.382\n",
      "C(Scan_Location)[T.3]     0.0732      0.166      0.440      0.660      -0.253       0.399\n",
      "C(Scan_Location)[T.4]     0.0512      0.207      0.248      0.804      -0.354       0.456\n",
      "PDS_mean                  0.0117      0.107      0.110      0.912      -0.197       0.221\n",
      "summed                    0.0119      0.052      0.228      0.819      -0.090       0.114\n",
      "summed:PDS_mean           0.0134      0.025      0.528      0.598      -0.037       0.063\n",
      "Age                      -0.0608      0.018     -3.355      0.001      -0.096      -0.025\n",
      "=========================================================================================\n",
      "0.01344246486444169 0.5979007967733743\n",
      "-0.06077731040169433 0.0008203147992391257\n",
      "\n",
      "\n",
      "Partial eta squared for PDS_mean: 0.01016\n",
      "Partial eta squared for summed: 0.00174\n",
      "Partial eta squared for summed:PDS_mean: 0.00032\n",
      "Partial eta squared for Age: 0.01016\n",
      "----------------\n",
      "\n",
      "\n",
      "FEMALE\n",
      "prediction ~ PDS_mean + summed + Age + C(Scan_Location)\n",
      "589\n",
      "=========================================================================================\n",
      "                            coef    std err          t      P>|t|      [0.025      0.975]\n",
      "-----------------------------------------------------------------------------------------\n",
      "Intercept                 0.6006      0.227      2.644      0.008       0.155       1.047\n",
      "C(Scan_Location)[T.2]     0.0377      0.183      0.205      0.837      -0.323       0.398\n",
      "C(Scan_Location)[T.3]    -0.1565      0.184     -0.852      0.394      -0.517       0.204\n",
      "C(Scan_Location)[T.4]    -0.2143      0.232     -0.923      0.357      -0.671       0.242\n",
      "PDS_mean                  0.1651      0.091      1.807      0.071      -0.014       0.345\n",
      "summed                    0.0735      0.029      2.556      0.011       0.017       0.130\n",
      "Age                      -0.0570      0.023     -2.508      0.012      -0.102      -0.012\n",
      "=========================================================================================\n",
      "0.07351068473268446 0.010854342949618482\n",
      "-0.05701882751969401 0.012408983438653895\n",
      "\n",
      "\n",
      "Partial eta squared for PDS_mean: 3e-05\n",
      "Partial eta squared for summed: 0.00967\n",
      "Partial eta squared for Age: 0.01069\n",
      "----------------\n",
      "\n",
      "\n",
      "prediction ~ PDS_mean + summed + summed:PDS_mean + Age + C(Scan_Location)\n",
      "589\n",
      "=========================================================================================\n",
      "                            coef    std err          t      P>|t|      [0.025      0.975]\n",
      "-----------------------------------------------------------------------------------------\n",
      "Intercept                 0.5433      0.287      1.890      0.059      -0.021       1.108\n",
      "C(Scan_Location)[T.2]     0.0336      0.184      0.182      0.855      -0.328       0.395\n",
      "C(Scan_Location)[T.3]    -0.1592      0.184     -0.866      0.387      -0.520       0.202\n",
      "C(Scan_Location)[T.4]    -0.2208      0.233     -0.946      0.344      -0.679       0.237\n",
      "PDS_mean                  0.1944      0.128      1.514      0.130      -0.058       0.446\n",
      "summed                    0.0953      0.073      1.307      0.192      -0.048       0.238\n",
      "summed:PDS_mean          -0.0111      0.034     -0.325      0.745      -0.078       0.056\n",
      "Age                      -0.0564      0.023     -2.472      0.014      -0.101      -0.012\n",
      "=========================================================================================\n",
      "-0.01113429887131186 0.745112642510757\n",
      "-0.056423249317876956 0.013721061552236513\n",
      "\n",
      "\n",
      "Partial eta squared for PDS_mean: 3e-05\n",
      "Partial eta squared for summed: 0.00967\n",
      "Partial eta squared for summed:PDS_mean: 0.00047\n",
      "Partial eta squared for Age: 0.01041\n",
      "----------------\n",
      "\n",
      "\n"
     ]
    }
   ],
   "source": [
    "psycho_pub_models = [\n",
    "    'prediction ~ PDS_mean + summed + Age + C(Scan_Location)',\n",
    "    'prediction ~ PDS_mean + summed + summed:PDS_mean + Age + C(Scan_Location)']\n",
    "\n",
    "for s in [0,1]:\n",
    "    if s == 0:\n",
    "        print(\"MALE\")\n",
    "    elif s == 1:\n",
    "        print(\"FEMALE\")\n",
    "    \n",
    "    for m in psycho_pub_models:\n",
    "        \n",
    "        \n",
    "        model = smf.ols(formula=m, data=tmp1.loc[tmp1[\"Sex\"]==s]).fit()\n",
    "        summary = model.summary()\n",
    "\n",
    "        print(m)\n",
    "        print(int(model.nobs))\n",
    "        print(summary.tables[1])\n",
    "        print(model.params[-2], model.pvalues[-2])\n",
    "        print(model.params[-1], model.pvalues[-1])\n",
    "        print(\"\\n\")\n",
    "        partial_eta_square(model)\n",
    "        print(\"----------------\")\n",
    "        print(\"\\n\")\n",
    "        \n"
   ]
  },
  {
   "attachments": {},
   "cell_type": "markdown",
   "id": "6a72d587",
   "metadata": {},
   "source": [
    "#### puberty models for HBN with restricted subsamples that match the cross-sectional age ranges in ABCD base and follow "
   ]
  },
  {
   "cell_type": "code",
   "execution_count": 394,
   "id": "01aff2c1",
   "metadata": {},
   "outputs": [],
   "source": [
    "## age ranges for cross-sectional ABCD associations\n",
    "base_min_age = 8.916666666666666\n",
    "base_max_age = 11.083333333333334\n",
    "\n",
    "follow_min_age = 10.583333333333334\n",
    "follow_max_age = 13.833333333333334"
   ]
  },
  {
   "cell_type": "code",
   "execution_count": 399,
   "id": "ad5b760b",
   "metadata": {},
   "outputs": [
    {
     "name": "stdout",
     "output_type": "stream",
     "text": [
      "MALE\n",
      "prediction ~ PDS_mean + Age + C(Scan_Location)\n",
      "300\n",
      "=========================================================================================\n",
      "                            coef    std err          t      P>|t|      [0.025      0.975]\n",
      "-----------------------------------------------------------------------------------------\n",
      "Intercept                -1.9946      1.093     -1.824      0.069      -4.147       0.157\n",
      "C(Scan_Location)[T.2]    -0.5132      0.321     -1.597      0.111      -1.146       0.119\n",
      "C(Scan_Location)[T.3]    -0.1026      0.323     -0.317      0.751      -0.738       0.533\n",
      "C(Scan_Location)[T.4]    -0.3773      0.367     -1.027      0.305      -1.100       0.346\n",
      "PDS_mean                  0.0660      0.157      0.419      0.675      -0.244       0.376\n",
      "Age                       0.2022      0.109      1.848      0.066      -0.013       0.418\n",
      "=========================================================================================\n",
      "0.06604194640969738 0.6752679223329507\n",
      "0.20219229006638423 0.06559948662597727\n",
      "\n",
      "\n",
      "Partial eta squared for PDS_mean: 0.00341\n",
      "Partial eta squared for Age: 0.01148\n",
      "----------------\n",
      "\n",
      "\n",
      "FEMALE\n",
      "prediction ~ PDS_mean + Age + C(Scan_Location)\n",
      "141\n",
      "=========================================================================================\n",
      "                            coef    std err          t      P>|t|      [0.025      0.975]\n",
      "-----------------------------------------------------------------------------------------\n",
      "Intercept                -0.1862      1.666     -0.112      0.911      -3.481       3.109\n",
      "C(Scan_Location)[T.2]     0.6580      0.397      1.657      0.100      -0.127       1.443\n",
      "C(Scan_Location)[T.3]     0.4637      0.382      1.213      0.227      -0.292       1.220\n",
      "C(Scan_Location)[T.4]     0.8038      0.464      1.732      0.086      -0.114       1.722\n",
      "PDS_mean                  0.3253      0.179      1.820      0.071      -0.028       0.679\n",
      "Age                      -0.0518      0.166     -0.312      0.756      -0.381       0.277\n",
      "=========================================================================================\n",
      "0.3253023550857002 0.07101715410867414\n",
      "-0.051846303379570684 0.7556385782577165\n",
      "\n",
      "\n",
      "Partial eta squared for PDS_mean: 0.02336\n",
      "Partial eta squared for Age: 0.00072\n",
      "----------------\n",
      "\n",
      "\n"
     ]
    }
   ],
   "source": [
    "pub_models = [\n",
    "    'prediction ~ PDS_mean + Age + C(Scan_Location)']\n",
    "\n",
    "\n",
    "for s in [0,1]:\n",
    "    if s == 0:\n",
    "        print(\"MALE\")\n",
    "    elif s == 1:\n",
    "        print(\"FEMALE\")\n",
    "    \n",
    "    for m in pub_models:\n",
    "        \n",
    "        \n",
    "        model = smf.ols(formula=m, data=tmp1[tmp1.Age.between(base_min_age, base_max_age)].loc[tmp1[\"Sex\"]==s]).fit()\n",
    "        summary = model.summary()\n",
    "\n",
    "        print(m)\n",
    "        print(int(model.nobs))\n",
    "        print(summary.tables[1])\n",
    "        print(model.params[-2], model.pvalues[-2])\n",
    "        print(model.params[-1], model.pvalues[-1])\n",
    "        print(\"\\n\")\n",
    "        partial_eta_square(model)\n",
    "        print(\"----------------\")\n",
    "        print(\"\\n\")\n",
    "        \n",
    "###restricted for baseline ABCD age"
   ]
  },
  {
   "cell_type": "code",
   "execution_count": 400,
   "id": "1de0ba33",
   "metadata": {},
   "outputs": [
    {
     "name": "stdout",
     "output_type": "stream",
     "text": [
      "MALE\n",
      "prediction ~ PDS_mean + Age + C(Scan_Location)\n",
      "259\n",
      "=========================================================================================\n",
      "                            coef    std err          t      P>|t|      [0.025      0.975]\n",
      "-----------------------------------------------------------------------------------------\n",
      "Intercept                 2.6146      1.083      2.413      0.017       0.481       4.748\n",
      "C(Scan_Location)[T.2]    -0.6076      0.386     -1.574      0.117      -1.368       0.153\n",
      "C(Scan_Location)[T.3]    -0.4252      0.385     -1.105      0.270      -1.183       0.333\n",
      "C(Scan_Location)[T.4]    -0.7026      0.493     -1.424      0.156      -1.674       0.269\n",
      "PDS_mean                 -0.1229      0.136     -0.905      0.366      -0.390       0.145\n",
      "Age                      -0.1694      0.092     -1.837      0.067      -0.351       0.012\n",
      "=========================================================================================\n",
      "-0.12294214323165023 0.3662132905999904\n",
      "-0.16942826047484055 0.06739733816879288\n",
      "\n",
      "\n",
      "Partial eta squared for PDS_mean: 0.01482\n",
      "Partial eta squared for Age: 0.01316\n",
      "----------------\n",
      "\n",
      "\n",
      "FEMALE\n",
      "prediction ~ PDS_mean + Age + C(Scan_Location)\n",
      "134\n",
      "=========================================================================================\n",
      "                            coef    std err          t      P>|t|      [0.025      0.975]\n",
      "-----------------------------------------------------------------------------------------\n",
      "Intercept                -0.7881      1.082     -0.728      0.468      -2.929       1.353\n",
      "C(Scan_Location)[T.2]     0.0304      0.329      0.093      0.926      -0.620       0.680\n",
      "C(Scan_Location)[T.3]    -0.1835      0.328     -0.560      0.576      -0.832       0.465\n",
      "C(Scan_Location)[T.4]    -0.6246      0.527     -1.185      0.238      -1.668       0.418\n",
      "PDS_mean                 -0.0091      0.137     -0.067      0.947      -0.280       0.262\n",
      "Age                       0.1067      0.095      1.127      0.262      -0.081       0.294\n",
      "=========================================================================================\n",
      "-0.00913212399317424 0.9469244473777749\n",
      "0.10666994038294035 0.2618773601366985\n",
      "\n",
      "\n",
      "Partial eta squared for PDS_mean: 0.00175\n",
      "Partial eta squared for Age: 0.00982\n",
      "----------------\n",
      "\n",
      "\n"
     ]
    }
   ],
   "source": [
    "pub_models = [\n",
    "    'prediction ~ PDS_mean + Age + C(Scan_Location)']\n",
    "\n",
    "\n",
    "for s in [0,1]:\n",
    "    if s == 0:\n",
    "        print(\"MALE\")\n",
    "    elif s == 1:\n",
    "        print(\"FEMALE\")\n",
    "    \n",
    "    for m in pub_models:\n",
    "        \n",
    "        \n",
    "        model = smf.ols(formula=m, data=tmp1[tmp1.Age.between(follow_min_age, follow_max_age)].loc[tmp1[\"Sex\"]==s]).fit()\n",
    "        summary = model.summary()\n",
    "\n",
    "        print(m)\n",
    "        print(int(model.nobs))\n",
    "        print(summary.tables[1])\n",
    "        print(model.params[-2], model.pvalues[-2])\n",
    "        print(model.params[-1], model.pvalues[-1])\n",
    "        print(\"\\n\")\n",
    "        partial_eta_square(model)\n",
    "        print(\"----------------\")\n",
    "        print(\"\\n\")\n",
    "        \n"
   ]
  }
 ],
 "metadata": {
  "kernelspec": {
   "display_name": "Python 3 (ipykernel)",
   "language": "python",
   "name": "python3"
  },
  "language_info": {
   "codemirror_mode": {
    "name": "ipython",
    "version": 3
   },
   "file_extension": ".py",
   "mimetype": "text/x-python",
   "name": "python",
   "nbconvert_exporter": "python",
   "pygments_lexer": "ipython3",
   "version": "3.7.11"
  }
 },
 "nbformat": 4,
 "nbformat_minor": 5
}
