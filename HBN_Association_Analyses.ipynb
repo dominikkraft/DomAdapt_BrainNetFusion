{
 "cells": [
  {
   "cell_type": "markdown",
   "id": "9773bc7a",
   "metadata": {},
   "source": [
    "### Notebook to run association analyses for HBN sample.\n",
    "- Author: Dominik Kraft\n",
    "\n",
    "- make sure to use correct conda environment or use __conda activate net_fusion__ before starting the jupyter notebook"
   ]
  },
  {
   "cell_type": "code",
   "execution_count": 3,
   "id": "a7670f64",
   "metadata": {},
   "outputs": [],
   "source": [
    "import pandas as pd\n",
    "import numpy as np\n",
    "import matplotlib.pyplot as plt\n",
    "import seaborn as sns\n",
    "import statsmodels.api as sm\n",
    "import statsmodels.formula.api as smf\n",
    "\n",
    "\n",
    "pd.options.mode.chained_assignment = None \n",
    "\n",
    "import warnings\n",
    "warnings.filterwarnings(\"ignore\", category=DeprecationWarning) "
   ]
  },
  {
   "cell_type": "code",
   "execution_count": 189,
   "id": "c30ee44a",
   "metadata": {},
   "outputs": [],
   "source": [
    "def partial_eta_square(model):\n",
    "    \"\"\"\n",
    "    Function to calculate partial eta square from OLS model after fitting\n",
    "    ---\n",
    "    Input:\n",
    "    - sm.model object after fitting the model\n",
    "    ----\n",
    "    Output:\n",
    "    - no return value, but prints partial eta squares for each predictor in model\n",
    "    \"\"\"\n",
    "    \n",
    "    # transform model to anova table\n",
    "    anova_table = sm.stats.anova_lm(model) \n",
    "    # index of anova table = predictor list\n",
    "    predictors = anova_table.index.to_list()\n",
    "    \n",
    "    # exclude categorical predictors + residuals\n",
    "    to_exclude = (\"C(\", \"Resi\")\n",
    "    predictors = [p for p in predictors if not p.startswith(to_exclude)]\n",
    "    \n",
    "    #iterate over all predictors and calculate eta squared \n",
    "    for predictor in predictors:\n",
    "        SS_predictor = anova_table.loc[predictor, 'sum_sq']\n",
    "        SS_resid = anova_table.loc['Residual', 'sum_sq']\n",
    "        partial_eta_squared = SS_predictor / (SS_predictor + SS_resid)\n",
    "        print(f'Partial eta squared for {predictor}: {partial_eta_squared.round(5)}')"
   ]
  },
  {
   "cell_type": "code",
   "execution_count": 10,
   "id": "3853b0ef",
   "metadata": {},
   "outputs": [],
   "source": [
    "dic = np.load('../embedding_scripts/outputdict_hbn.npy',allow_pickle='TRUE').item()\n",
    "# load output from main_hbn.py"
   ]
  },
  {
   "cell_type": "code",
   "execution_count": 153,
   "id": "8b8bfd49",
   "metadata": {},
   "outputs": [],
   "source": [
    "## combine demos and predicted embedding\n",
    "hbn = dic[\"demos\"][1] \n",
    "hbn[\"prediction\"] = np.squeeze(dic[\"predictions\"]) # predicted embedding\n",
    "hbn.rename(columns={\"Identifiers\":\"subjectkey\"},inplace=True)"
   ]
  },
  {
   "cell_type": "markdown",
   "id": "f66aad32",
   "metadata": {},
   "source": [
    "## get puberty information\n",
    "\n",
    "#### Note: we use data from LORIS + COINS releases to make sure to gather every available data \n",
    "\n",
    "- The first cells contain some data handling to align both datasets and eventually combine them \n",
    "\n",
    "\n",
    "\n"
   ]
  },
  {
   "cell_type": "code",
   "execution_count": 121,
   "id": "39e0232e",
   "metadata": {},
   "outputs": [],
   "source": [
    "### specify puberty columns for loris\n",
    "pub_cols = ['PPS,PPS_F_01',\n",
    " 'PPS,PPS_F_02',\n",
    " 'PPS,PPS_F_03',\n",
    " 'PPS,PPS_F_04','PPS,PPS_F_05',\n",
    " 'PPS,PPS_F_06', \"PPS,PPS_F_Score\",\n",
    "'PPS,PPS_M_01',\n",
    " 'PPS,PPS_M_02',\n",
    " 'PPS,PPS_M_03',\n",
    " 'PPS,PPS_M_04',\n",
    " 'PPS,PPS_M_05',\n",
    "'PPS,PPS_M_06',\n",
    "           \"PPS,PPS_M_Score\"]"
   ]
  },
  {
   "cell_type": "code",
   "execution_count": 132,
   "id": "12c50a55",
   "metadata": {},
   "outputs": [
    {
     "data": {
      "text/plain": [
       "(2842, 15)"
      ]
     },
     "execution_count": 132,
     "metadata": {},
     "output_type": "execute_result"
    }
   ],
   "source": [
    "loris_pub=pd.read_csv('../hbn/nonMRI/HBN_Petersen_neu1708.csv', sep = ',', skiprows=[1],\n",
    "                usecols= pub_cols + [\"Identifiers\"])\n",
    "                   # read header\n",
    "    \n",
    "loris_pub[\"Identifiers\"] = [\"sub-\"+ x for x in loris_pub[\"Identifiers\"]]\n",
    "loris_pub[\"Identifiers\"] =loris_pub[\"Identifiers\"].str.replace(',assessment', '')\n",
    "loris_pub.drop_duplicates(subset=[\"Identifiers\"], inplace=True)\n",
    "\n",
    "loris_pub.shape"
   ]
  },
  {
   "cell_type": "code",
   "execution_count": 133,
   "id": "ef5d0ab2",
   "metadata": {},
   "outputs": [
    {
     "data": {
      "text/plain": [
       "{'PPS,PPS_F_01': 'PPS_F_01',\n",
       " 'PPS,PPS_F_02': 'PPS_F_02',\n",
       " 'PPS,PPS_F_03': 'PPS_F_03',\n",
       " 'PPS,PPS_F_04': 'PPS_F_04',\n",
       " 'PPS,PPS_F_05': 'PPS_F_05',\n",
       " 'PPS,PPS_F_06': 'PPS_F_06',\n",
       " 'PPS,PPS_F_Score': 'PPS_F_Score',\n",
       " 'PPS,PPS_M_01': 'PPS_M_01',\n",
       " 'PPS,PPS_M_02': 'PPS_M_02',\n",
       " 'PPS,PPS_M_03': 'PPS_M_03',\n",
       " 'PPS,PPS_M_04': 'PPS_M_04',\n",
       " 'PPS,PPS_M_05': 'PPS_M_05',\n",
       " 'PPS,PPS_M_06': 'PPS_M_06',\n",
       " 'PPS,PPS_M_Score': 'PPS_M_Score'}"
      ]
     },
     "execution_count": 133,
     "metadata": {},
     "output_type": "execute_result"
    }
   ],
   "source": [
    "### different column naming between loris and coins file \n",
    "col_map = [x.replace('PPS,', '') for x in loris_pub.columns if x.startswith(\"PPS\")]\n",
    "col_to_map = [x for x in loris_pub.columns if x.startswith(\"PPS\")]\n",
    "mapper_dic = dict(zip(col_to_map, col_map))\n",
    "mapper_dic\n",
    "\n",
    "\n",
    "## map loris column names to coin column names"
   ]
  },
  {
   "cell_type": "code",
   "execution_count": 135,
   "id": "77f9c823",
   "metadata": {},
   "outputs": [],
   "source": [
    "loris_pub.rename(mapper=mapper_dic, axis=1, inplace=True)\n",
    "loris_pub.rename(columns={\"Identifiers\":\"subjectkey\"},inplace=True)\n",
    "loris_pub[col_map] = loris_pub[col_map].replace('.', np.nan)\n",
    "loris_pub[col_map] = loris_pub[col_map].astype(\"float64\")\n"
   ]
  },
  {
   "cell_type": "code",
   "execution_count": 136,
   "id": "ff85021a",
   "metadata": {},
   "outputs": [
    {
     "data": {
      "text/plain": [
       "(2450, 15)"
      ]
     },
     "execution_count": 136,
     "metadata": {},
     "output_type": "execute_result"
    }
   ],
   "source": [
    "### COINS ###\n",
    "\n",
    "coins_pub = pd.read_csv(\"../hbn/nonMRI/coins/assessment_data/9994_PPS_20220818.csv\",\n",
    "                      sep = ',', skiprows=[1])\n",
    "\n",
    "\n",
    "coins_pub[\"subjectkey\"] = [\"sub-\"+ x for x in coins_pub[\"EID\"]] ### note: in loris file, variables are labeled differently\n",
    "\n",
    "coins_pub[\"subjectkey\"] =coins_pub[\"subjectkey\"].str.replace(',assessment', '')\n",
    "\n",
    "coins_pub.drop_duplicates(subset=[\"subjectkey\"], inplace=True)\n",
    "\n",
    "coins_pub = coins_pub[[\"subjectkey\"]+col_map]\n",
    "coins_pub.shape\n",
    "\n"
   ]
  },
  {
   "cell_type": "code",
   "execution_count": 137,
   "id": "956a33e2",
   "metadata": {},
   "outputs": [
    {
     "name": "stdout",
     "output_type": "stream",
     "text": [
      "(5292, 15)\n",
      "(2843, 15)\n"
     ]
    }
   ],
   "source": [
    "pub_combined = pd.concat([coins_pub, loris_pub]) # concat both loris and coins\n",
    "print(pub_combined.shape)\n",
    "pub_combined.drop_duplicates(subset=\"subjectkey\", inplace=True) # drop duplicates\n",
    "print(pub_combined.shape)\n"
   ]
  },
  {
   "cell_type": "code",
   "execution_count": 155,
   "id": "aaf371a5",
   "metadata": {},
   "outputs": [
    {
     "data": {
      "text/plain": [
       "(1709, 30)"
      ]
     },
     "execution_count": 155,
     "metadata": {},
     "output_type": "execute_result"
    }
   ],
   "source": [
    "pub_d = pd.merge(hbn, pub_combined, on=\"subjectkey\") #merge embedding info and puberty info\n",
    "pub_d.drop_duplicates(subset=\"subjectkey\", inplace=True)\n",
    "pub_d.shape"
   ]
  },
  {
   "cell_type": "markdown",
   "id": "6e1406d2",
   "metadata": {},
   "source": [
    "## Association Analyses\n",
    "\n",
    "\n"
   ]
  },
  {
   "cell_type": "markdown",
   "id": "7d2a53b2",
   "metadata": {},
   "source": [
    "### get puberty information\n",
    "\n",
    "#### puberty information in analogy to ABCD sample"
   ]
  },
  {
   "cell_type": "code",
   "execution_count": 156,
   "id": "5afe98bd",
   "metadata": {},
   "outputs": [],
   "source": [
    "fem = pub_d.loc[pub_d[\"Sex\"]==1] ## subset for sex\n",
    "men = pub_d.loc[pub_d[\"Sex\"]==0]\n",
    "\n",
    "\n",
    "## calculate gonadal puberty scores \n",
    "fem[\"gonadal\"]= fem[[\"PPS_F_01\", \"PPS_F_04\", \"PPS_F_06\"]].mean(axis=1, skipna=False)\n",
    "men[\"gonadal\"] = men[[\"PPS_M_01\",\"PPS_M_04\", \"PPS_M_05\"]].mean(axis=1, skipna=False)\n",
    "\n",
    "\n",
    "## calculate adrenal puberty scores\n",
    "fem[\"adrenal\"]= fem[[\"PPS_F_02\", \"PPS_F_03\"]].mean(axis=1, skipna=False)\n",
    "men[\"adrenal\"]= men[[\"PPS_M_02\", \"PPS_M_03\"]].mean(axis=1, skipna=False)\n",
    "\n",
    "## calculate average PDS scores\n",
    "fem[\"PDS_mean\"] =  fem[['PPS_F_01',\n",
    " 'PPS_F_02',\n",
    " 'PPS_F_03',\n",
    " 'PPS_F_04',\n",
    " 'PPS_F_06',]].mean(axis=1, skipna=False)\n",
    "men[\"PDS_mean\"] =  men[['PPS_M_01',\n",
    " 'PPS_M_02',\n",
    " 'PPS_M_03',\n",
    " 'PPS_M_04',\n",
    " 'PPS_M_05']].mean(axis=1, skipna=False)\n",
    "\n",
    "## calculate PDS category score\n",
    "fem[\"PDS_cat_score\"] = fem[[\"PPS_F_02\", \"PPS_F_04\"]].sum(axis=1, skipna=False) ##### error f2 statt f1 ### \n",
    "men[\"PDS_cat_score\"] = men[[\"PPS_M_02\",\"PPS_M_04\", \"PPS_M_05\"]].sum(axis=1, skipna=False)"
   ]
  },
  {
   "cell_type": "code",
   "execution_count": 157,
   "id": "27d2b84a",
   "metadata": {},
   "outputs": [],
   "source": [
    "def female_categorical(row):\n",
    "    '''\n",
    "    female: body hair growth + breast development || using menarche info as follows:\n",
    "    prepubertal = 2 + no menarche\n",
    "    early pubertal = 3 + no menarche\n",
    "    midpubertal =>3 + no menarche\n",
    "    late pubertal <=7 + menarche\n",
    "    postpubertal = 8 + menarche\n",
    "    according to Herting et al (2021) Frontiers in Endocrinology\n",
    "    '''\n",
    "    if np.isnan(row[\"PDS_cat_score\"])==False:\n",
    "        \n",
    "        if row[\"PPS_F_06\"] == 0.0: #no\n",
    "            if row[\"PDS_cat_score\"] == 2.0:\n",
    "                return \"prepubertal\"\n",
    "            if row[\"PDS_cat_score\"] == 3.0:\n",
    "                return \"early pubertal\"\n",
    "            if row[\"PDS_cat_score\"] >= 3.0:\n",
    "                return \"midpubertal\"\n",
    "            \n",
    "        elif row[\"PPS_F_06\"] == 1.0: #yes\n",
    "            if row[\"PDS_cat_score\"] <= 7.0:\n",
    "                return \"late pubertal\"\n",
    "            if row[\"PDS_cat_score\"] == 8.0:\n",
    "                return \"postpubertal\"\n",
    "                  \n",
    "    elif np.isnan(row[\"PDS_cat_score\"])==True:\n",
    "        return np.nan\n",
    "    \n",
    "    \n",
    "def male_categorical(row):\n",
    "    '''\n",
    "    male: body hair growth + facial hair + voice change\n",
    "    prepubertal = 3 x\n",
    "    early pubertal = 4 or 5 (no 3 point response)x\n",
    "    midpubertal = 6-8 (no point 4 response) x\n",
    "    late pubertal = 9-11 \n",
    "    postpubertal = 12 (all 4 point)\n",
    "    according to Herting et al (2021) Frontiers in Endocrinology\n",
    "    with minor adjustment to not create cases for which category is not\n",
    "    well defined (see paper)\n",
    "    '''\n",
    "    if np.isnan(row[\"PDS_cat_score\"])==False:\n",
    "        \n",
    "        if row[\"PDS_cat_score\"] == 3.0:\n",
    "            return \"prepubertal\"\n",
    "        \n",
    "        if 4.0 <= row[\"PDS_cat_score\"] <= 5.0:\n",
    "            return \"early pubertal\"\n",
    "            \n",
    "        if 6.0 <= row[\"PDS_cat_score\"] <= 8.0:\n",
    "            return \"midpubertal\"\n",
    "            \n",
    "        if 9.0 <= row[\"PDS_cat_score\"] <= 11.0:\n",
    "                return \"late pubertal\"\n",
    "            \n",
    "        if row[\"PDS_cat_score\"] == 12.0:\n",
    "            return \"postpubertal\"\n",
    "        \n",
    "    elif np.isnan(row[\"PDS_cat_score\"])==True:\n",
    "        return np.nan"
   ]
  },
  {
   "cell_type": "code",
   "execution_count": 158,
   "id": "ea131e64",
   "metadata": {},
   "outputs": [
    {
     "data": {
      "text/plain": [
       "(1709, 35)"
      ]
     },
     "execution_count": 158,
     "metadata": {},
     "output_type": "execute_result"
    }
   ],
   "source": [
    "fem[\"PDS_category\"] = fem.apply(lambda row: female_categorical(row), axis=1)\n",
    "men[\"PDS_category\"] = men.apply(lambda row: male_categorical(row), axis=1)\n",
    "\n",
    "pub_all = pd.concat([fem, men])\n",
    "pub_all.shape"
   ]
  },
  {
   "cell_type": "code",
   "execution_count": 165,
   "id": "ef369627",
   "metadata": {},
   "outputs": [],
   "source": [
    "tmp1 = pub_all.copy() # copy dataframe "
   ]
  },
  {
   "cell_type": "markdown",
   "id": "51b13d75",
   "metadata": {},
   "source": [
    "### Psychopathology Model\n"
   ]
  },
  {
   "cell_type": "code",
   "execution_count": 194,
   "id": "db46f678",
   "metadata": {
    "scrolled": false
   },
   "outputs": [
    {
     "name": "stdout",
     "output_type": "stream",
     "text": [
      "MALE\n",
      "prediction ~ summed + Age + C(Scan_Location)\n",
      "1113\n",
      "=========================================================================================\n",
      "                            coef    std err          t      P>|t|      [0.025      0.975]\n",
      "-----------------------------------------------------------------------------------------\n",
      "Intercept                 0.2236      0.196      1.143      0.253      -0.160       0.607\n",
      "C(Scan_Location)[T.2]     0.0544      0.164      0.332      0.740      -0.267       0.376\n",
      "C(Scan_Location)[T.3]     0.0757      0.164      0.462      0.644      -0.246       0.398\n",
      "C(Scan_Location)[T.4]     0.0429      0.204      0.211      0.833      -0.356       0.442\n",
      "summed                    0.0393      0.022      1.773      0.077      -0.004       0.083\n",
      "Age                      -0.0514      0.011     -4.843      0.000      -0.072      -0.031\n",
      "=========================================================================================\n",
      "0.039315089323482086 0.07655844586148765\n",
      "-0.051418941340083686 1.4572384100851914e-06\n",
      "\n",
      "\n",
      "Partial eta squared for summed: 0.00123\n",
      "Partial eta squared for Age: 0.02075\n",
      "----------------\n",
      "\n",
      "\n",
      "prediction ~ PDS_mean + summed + Age + C(Scan_Location)\n",
      "1105\n",
      "=========================================================================================\n",
      "                            coef    std err          t      P>|t|      [0.025      0.975]\n",
      "-----------------------------------------------------------------------------------------\n",
      "Intercept                 0.2360      0.198      1.194      0.233      -0.152       0.624\n",
      "C(Scan_Location)[T.2]     0.0582      0.166      0.351      0.726      -0.267       0.384\n",
      "C(Scan_Location)[T.3]     0.0764      0.166      0.460      0.646      -0.250       0.402\n",
      "C(Scan_Location)[T.4]     0.0577      0.206      0.280      0.780      -0.347       0.462\n",
      "PDS_mean                  0.0512      0.076      0.676      0.499      -0.097       0.200\n",
      "summed                    0.0366      0.022      1.643      0.101      -0.007       0.080\n",
      "Age                      -0.0610      0.018     -3.367      0.001      -0.096      -0.025\n",
      "=========================================================================================\n",
      "0.036601144170140536 0.1006688485146742\n",
      "-0.06095264591122897 0.0007875923423229345\n",
      "\n",
      "\n",
      "Partial eta squared for PDS_mean: 0.01016\n",
      "Partial eta squared for summed: 0.00174\n",
      "Partial eta squared for Age: 0.01022\n",
      "----------------\n",
      "\n",
      "\n",
      "prediction ~ PDS_mean + summed + summed:PDS_mean + Age + C(Scan_Location)\n",
      "1105\n",
      "=========================================================================================\n",
      "                            coef    std err          t      P>|t|      [0.025      0.975]\n",
      "-----------------------------------------------------------------------------------------\n",
      "Intercept                 0.3076      0.240      1.282      0.200      -0.163       0.778\n",
      "C(Scan_Location)[T.2]     0.0568      0.166      0.342      0.732      -0.269       0.382\n",
      "C(Scan_Location)[T.3]     0.0732      0.166      0.440      0.660      -0.253       0.399\n",
      "C(Scan_Location)[T.4]     0.0512      0.207      0.248      0.804      -0.354       0.456\n",
      "PDS_mean                  0.0117      0.107      0.110      0.912      -0.197       0.221\n",
      "summed                    0.0119      0.052      0.228      0.819      -0.090       0.114\n",
      "summed:PDS_mean           0.0134      0.025      0.528      0.598      -0.037       0.063\n",
      "Age                      -0.0608      0.018     -3.355      0.001      -0.096      -0.025\n",
      "=========================================================================================\n",
      "0.01344246486444169 0.5979007967733743\n",
      "-0.06077731040169433 0.0008203147992391257\n",
      "\n",
      "\n",
      "Partial eta squared for PDS_mean: 0.01016\n",
      "Partial eta squared for summed: 0.00174\n",
      "Partial eta squared for summed:PDS_mean: 0.00032\n",
      "Partial eta squared for Age: 0.01016\n",
      "----------------\n",
      "\n",
      "\n",
      "FEMALE\n",
      "prediction ~ summed + Age + C(Scan_Location)\n",
      "596\n",
      "=========================================================================================\n",
      "                            coef    std err          t      P>|t|      [0.025      0.975]\n",
      "-----------------------------------------------------------------------------------------\n",
      "Intercept                 0.5236      0.222      2.363      0.018       0.088       0.959\n",
      "C(Scan_Location)[T.2]     0.0559      0.181      0.308      0.758      -0.300       0.412\n",
      "C(Scan_Location)[T.3]    -0.1512      0.181     -0.834      0.404      -0.507       0.205\n",
      "C(Scan_Location)[T.4]    -0.2156      0.230     -0.937      0.349      -0.667       0.236\n",
      "summed                    0.0745      0.029      2.608      0.009       0.018       0.131\n",
      "Age                      -0.0230      0.013     -1.736      0.083      -0.049       0.003\n",
      "=========================================================================================\n",
      "0.0744786629816769 0.009331654808292534\n",
      "-0.022958514228076595 0.08302285465683419\n",
      "\n",
      "\n",
      "Partial eta squared for summed: 0.00872\n",
      "Partial eta squared for Age: 0.00508\n",
      "----------------\n",
      "\n",
      "\n",
      "prediction ~ PDS_mean + summed + Age + C(Scan_Location)\n",
      "590\n",
      "=========================================================================================\n",
      "                            coef    std err          t      P>|t|      [0.025      0.975]\n",
      "-----------------------------------------------------------------------------------------\n",
      "Intercept                 0.5791      0.224      2.581      0.010       0.138       1.020\n",
      "C(Scan_Location)[T.2]     0.0546      0.181      0.301      0.764      -0.302       0.411\n",
      "C(Scan_Location)[T.3]    -0.1398      0.182     -0.770      0.441      -0.496       0.217\n",
      "C(Scan_Location)[T.4]    -0.1971      0.231     -0.855      0.393      -0.650       0.256\n",
      "PDS_mean                  0.1662      0.091      1.821      0.069      -0.013       0.346\n",
      "summed                    0.0738      0.029      2.569      0.010       0.017       0.130\n",
      "Age                      -0.0569      0.023     -2.502      0.013      -0.101      -0.012\n",
      "=========================================================================================\n",
      "0.07384656462952877 0.010445521251827123\n",
      "-0.056855154883750744 0.01260869801915499\n",
      "\n",
      "\n",
      "Partial eta squared for PDS_mean: 5e-05\n",
      "Partial eta squared for summed: 0.00976\n",
      "Partial eta squared for Age: 0.01063\n",
      "----------------\n",
      "\n",
      "\n",
      "prediction ~ PDS_mean + summed + summed:PDS_mean + Age + C(Scan_Location)\n",
      "590\n",
      "=========================================================================================\n",
      "                            coef    std err          t      P>|t|      [0.025      0.975]\n",
      "-----------------------------------------------------------------------------------------\n",
      "Intercept                 0.5172      0.284      1.821      0.069      -0.041       1.075\n",
      "C(Scan_Location)[T.2]     0.0496      0.182      0.273      0.785      -0.308       0.407\n",
      "C(Scan_Location)[T.3]    -0.1433      0.182     -0.787      0.431      -0.501       0.214\n",
      "C(Scan_Location)[T.4]    -0.2046      0.232     -0.883      0.377      -0.660       0.250\n",
      "PDS_mean                  0.1981      0.128      1.546      0.123      -0.054       0.450\n",
      "summed                    0.0976      0.073      1.341      0.180      -0.045       0.240\n",
      "summed:PDS_mean          -0.0121      0.034     -0.355      0.723      -0.079       0.055\n",
      "Age                      -0.0562      0.023     -2.464      0.014      -0.101      -0.011\n",
      "=========================================================================================\n",
      "-0.012139248071054896 0.7225618775178115\n",
      "-0.05621032709912965 0.014015746938011817\n",
      "\n",
      "\n",
      "Partial eta squared for PDS_mean: 5e-05\n",
      "Partial eta squared for summed: 0.00976\n",
      "Partial eta squared for summed:PDS_mean: 0.00053\n",
      "Partial eta squared for Age: 0.01033\n",
      "----------------\n",
      "\n",
      "\n"
     ]
    }
   ],
   "source": [
    "psycho_models = [\n",
    "    'prediction ~ summed + Age + C(Scan_Location)',\n",
    "    'prediction ~ PDS_mean + summed + Age + C(Scan_Location)',\n",
    "    'prediction ~ PDS_mean + summed + summed:PDS_mean + Age + C(Scan_Location)']\n",
    "\n",
    "for s in [0,1]:\n",
    "    if s == 0:\n",
    "        print(\"MALE\")\n",
    "    elif s == 1:\n",
    "        print(\"FEMALE\")\n",
    "    \n",
    "    for m in psycho_models:\n",
    "        \n",
    "        \n",
    "        model = smf.ols(formula=m, data=tmp1.loc[tmp1[\"Sex\"]==s]).fit()\n",
    "        summary = model.summary()\n",
    "\n",
    "        print(m)\n",
    "        print(int(model.nobs))\n",
    "        print(summary.tables[1])\n",
    "        print(model.params[-2], model.pvalues[-2])\n",
    "        print(model.params[-1], model.pvalues[-1])\n",
    "        print(\"\\n\")\n",
    "        partial_eta_square(model)\n",
    "        print(\"----------------\")\n",
    "        print(\"\\n\")\n",
    "        \n"
   ]
  }
 ],
 "metadata": {
  "kernelspec": {
   "display_name": "Python 3 (ipykernel)",
   "language": "python",
   "name": "python3"
  },
  "language_info": {
   "codemirror_mode": {
    "name": "ipython",
    "version": 3
   },
   "file_extension": ".py",
   "mimetype": "text/x-python",
   "name": "python",
   "nbconvert_exporter": "python",
   "pygments_lexer": "ipython3",
   "version": "3.7.11"
  }
 },
 "nbformat": 4,
 "nbformat_minor": 5
}
